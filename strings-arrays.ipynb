{
 "cells": [
  {
   "cell_type": "markdown",
   "metadata": {},
   "source": [
    "# Strings and arrays."
   ]
  },
  {
   "cell_type": "markdown",
   "metadata": {},
   "source": [
    "The following topics will be covered:\n",
    "- String reversal\n",
    "- Zig-zag conversion\n",
    "- Pythagorean triplet\n",
    "- Largest contiguous subarray"
   ]
  },
  {
   "cell_type": "markdown",
   "metadata": {},
   "source": [
    "### String reversal"
   ]
  },
  {
   "cell_type": "markdown",
   "metadata": {},
   "source": [
    "The following piece of code does a <b>string reversal</b>:"
   ]
  },
  {
   "cell_type": "code",
   "execution_count": 1,
   "metadata": {},
   "outputs": [
    {
     "name": "stdout",
     "output_type": "stream",
     "text": [
      "a%b#c\n",
      "c#b%a\n"
     ]
    }
   ],
   "source": [
    "a = 'a%b#c'\n",
    "print(a)\n",
    "print(a[::-1])"
   ]
  },
  {
   "cell_type": "markdown",
   "metadata": {},
   "source": [
    "but instead we want to reverse the string <i>without</i> reversing the special characters."
   ]
  },
  {
   "cell_type": "code",
   "execution_count": 2,
   "metadata": {},
   "outputs": [
    {
     "name": "stdout",
     "output_type": "stream",
     "text": [
      "a!!!b.c.d,e'f,ghi\n",
      "i!!!h.g.f,e'd,cba\n"
     ]
    }
   ],
   "source": [
    "def reverseSting(text):\n",
    "    index = -1\n",
    "\n",
    "    for i in range(len(text)-1, int(len(text)/2), -1):\n",
    "     \n",
    "        if text[i].isalpha():\n",
    "            temp = text[i]\n",
    "            while True:\n",
    "                index += 1\n",
    "                if text[index].isalpha():\n",
    "                    text[i] = text[index]\n",
    "                    text[index] = temp\n",
    "                    break\n",
    "    return text\n",
    "     \n",
    "if __name__ == '__main__':\n",
    "    string = \"a!!!b.c.d,e'f,ghi\"\n",
    "    print(string)\n",
    "    string = reverseSting(list(string))\n",
    "    print(''.join(string))"
   ]
  },
  {
   "cell_type": "markdown",
   "metadata": {},
   "source": [
    "### Zig-zag conversion"
   ]
  },
  {
   "cell_type": "markdown",
   "metadata": {},
   "source": [
    "The <b>zig-zag conversion</b> is a method rearranging distinct elements of an array so that the elements are returned in the form of $a < b > c < d > e < f > g$. Given an array\n",
    "- [8, 6, 7, 5, 3, 0, 9, 4, 2, 1]\n",
    "\n",
    "When converted, it should return\n",
    "- [6, 8, 5, 7, 0, 9, 3, 4, 1, 2]\n",
    "\n",
    "because $6 < 8 > 5 < 7 > 0 < 9 > 3 < 4 > 1 < 2$ is correct."
   ]
  },
  {
   "cell_type": "code",
   "execution_count": 3,
   "metadata": {},
   "outputs": [
    {
     "name": "stdout",
     "output_type": "stream",
     "text": [
      "Original: [8, 6, 7, 5, 3, 0, 9, 4, 2, 1]\n",
      "Zigzag: [6, 8, 5, 7, 0, 9, 3, 4, 1, 2]\n"
     ]
    }
   ],
   "source": [
    "def zigZag(arr, n):\n",
    "    flag = True\n",
    "    for i in range(n-1):\n",
    "        if flag is True:\n",
    "            if arr[i] > arr[i+1]:\n",
    "                arr[i],arr[i+1] = arr[i+1],arr[i]\n",
    "        else:  \n",
    "            if arr[i] < arr[i+1]:\n",
    "                arr[i],arr[i+1] = arr[i+1],arr[i]\n",
    "        flag = bool(1 - flag)\n",
    "    return arr\n",
    "\n",
    "if __name__ == '__main__':\n",
    "    arr = [8, 6, 7, 5, 3, 0, 9, 4, 2, 1]\n",
    "    n = len(arr)\n",
    "    print(f'Original: {arr}')\n",
    "    print(f'Zigzag: {zigZag(arr, n)}')"
   ]
  },
  {
   "cell_type": "markdown",
   "metadata": {},
   "source": [
    "### Pythagorean triplets"
   ]
  },
  {
   "cell_type": "markdown",
   "metadata": {},
   "source": [
    "A <b>Pythagorean triplet</b> consists of three positive integers <i>a</i>, <i>b</i>, and <i>c</i>, such that\n",
    "- $a^{2} + b^{2} = c^{2}$\n",
    "\n",
    "Such a triple is commonly written as $(a, b, c)$. Given an array of elements\n",
    "- [3, 1, 4, 6, 5]\n",
    "\n",
    "the elements $(3, 4, 5)$ are a <b>Pythagorean triplet</b> because\n",
    "- $3^{2} + 4^{2} \\Rightarrow 9 + 16 = 25 \\Rightarrow 5^{2}$"
   ]
  },
  {
   "cell_type": "code",
   "execution_count": 4,
   "metadata": {},
   "outputs": [
    {
     "name": "stdout",
     "output_type": "stream",
     "text": [
      "Yes: (3, 4, 5)\n"
     ]
    }
   ],
   "source": [
    "def pythagorean_triple(nums):\n",
    "    nums.sort()\n",
    "\n",
    "    for c in reversed(range(2, len(nums))):\n",
    "        a = 0\n",
    "        b = c - 1\n",
    "\n",
    "        while a < b:\n",
    "            pythagorean_sum = nums[a]**2 + nums[b]**2\n",
    "            c_squared = nums[c]**2\n",
    "\n",
    "            if pythagorean_sum == c_squared:\n",
    "                return nums[a], nums[b], nums[c]\n",
    "            elif pythagorean_sum < c_squared:\n",
    "                a += 1\n",
    "            else:\n",
    "                b -= 1\n",
    "\n",
    "if __name__ == '__main__':\n",
    "    nums = [3, 1, 4, 6, 5]\n",
    "    if(pythagorean_triple(nums)):\n",
    "        print(f'Yes: {pythagorean_triple(nums)}')\n",
    "    else:\n",
    "        print('No')"
   ]
  },
  {
   "cell_type": "markdown",
   "metadata": {},
   "source": [
    "### Largest contiguous subarray"
   ]
  },
  {
   "cell_type": "markdown",
   "metadata": {},
   "source": [
    "The <b>largest contiguous subarray</b> is the length of the longest subarray which contains numbers that can be arranged in a continuous sequence. Given an array:\n",
    "- [13, 14, 16, 15, 56, 58, 57, 90, 92, 94, 93, 91, 45]\n",
    "\n",
    "The <b>largest contiguous subarray</b> will be\n",
    "- [90, 92, 94, 93, 91]\n",
    "\n",
    "which has a length of five."
   ]
  },
  {
   "cell_type": "code",
   "execution_count": 5,
   "metadata": {},
   "outputs": [
    {
     "name": "stdout",
     "output_type": "stream",
     "text": [
      "Length: 5\n"
     ]
    }
   ],
   "source": [
    "def min(x, y):\n",
    "    return x if(x < y) else y\n",
    "     \n",
    "def max(x, y):\n",
    "    return x if(x > y) else y\n",
    " \n",
    "def findLength(arr, n):\n",
    "    max_len = 1\n",
    "    for i in range(n - 1):\n",
    "        mn = arr[i]\n",
    "        mx = arr[i]\n",
    " \n",
    "        for j in range(i + 1, n):\n",
    "            mn = min(mn, arr[j])\n",
    "            mx = max(mx, arr[j])\n",
    " \n",
    "            if ((mx - mn) == j - i):\n",
    "                max_len = max(max_len, mx - mn + 1)\n",
    "         \n",
    "    return max_len\n",
    " \n",
    "if __name__ == '__main__':\n",
    "    arr = [13, 14, 16, 15, 56, 58, 57, 90, 92, 94, 93, 91, 45]\n",
    "    n = len(arr)\n",
    "    print(f'Length: {findLength(arr, n)}')"
   ]
  }
 ],
 "metadata": {
  "kernelspec": {
   "display_name": "Python 3",
   "language": "python",
   "name": "python3"
  },
  "language_info": {
   "codemirror_mode": {
    "name": "ipython",
    "version": 3
   },
   "file_extension": ".py",
   "mimetype": "text/x-python",
   "name": "python",
   "nbconvert_exporter": "python",
   "pygments_lexer": "ipython3",
   "version": "3.8.1"
  }
 },
 "nbformat": 4,
 "nbformat_minor": 4
}
