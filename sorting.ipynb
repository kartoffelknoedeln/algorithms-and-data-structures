{
 "cells": [
  {
   "cell_type": "markdown",
   "metadata": {},
   "source": [
    "# Sorting."
   ]
  },
  {
   "cell_type": "markdown",
   "metadata": {},
   "source": [
    "The following sorts are going to be covered:\n",
    "- Bubble sort\n",
    "- Counting sort\n",
    "- Merge sort\n",
    "- Quicksort\n",
    "- Heapsort\n",
    "\n",
    "Each sorting algorithm will have an explanation and commentary provided."
   ]
  },
  {
   "cell_type": "markdown",
   "metadata": {},
   "source": [
    "### Bubble sort"
   ]
  },
  {
   "cell_type": "markdown",
   "metadata": {},
   "source": [
    "A <b>bubble sort</b> is a simple (yet inefficient) algorithm that sorts elements in a list by comparing the pivot value with its next value, and then swapping places once the larger has been determined. By doing so, the largest value will go to the end of the list. But because this is only for one element in a list, this needs to be repeated for <i>every</i> element in the list, making this algorithm very inefficient."
   ]
  },
  {
   "cell_type": "markdown",
   "metadata": {},
   "source": [
    "For example, let's say we have a list [1, 4, 5, 3, 2].\n",
    "\n",
    "The first value, 1, will be compared with 4, which will stay in its place because 1 < 4. This repeats with 4 and 5 where both numbers will stay in their places. 5 will now compare to 3, but since 5 > 3, 5 and 3 swap places. 5 and 2 now compare, and they will also swap places, giving us an updated list [1, 4, 3, 2, 5].\n",
    "\n",
    "The process now repeats with 4."
   ]
  },
  {
   "cell_type": "code",
   "execution_count": 1,
   "metadata": {},
   "outputs": [
    {
     "name": "stdout",
     "output_type": "stream",
     "text": [
      "Unsorted list: [4, 6, 7, 1, 5, 3, 0, 2]\n",
      "Sorted list: [0, 1, 2, 3, 4, 5, 6, 7]\n"
     ]
    }
   ],
   "source": [
    "def bubble_sort(arr):\n",
    "    arr_length = len(arr)\n",
    "\n",
    "    while arr_length != 0:\n",
    "        for i in range(len(arr) - 1):\n",
    "            if arr[i] > arr[i + 1]:\n",
    "                arr[i], arr[i + 1] = arr[i + 1], arr[i]\n",
    "        arr_length = arr_length - 1\n",
    "\n",
    "    return arr\n",
    "\n",
    "def main():\n",
    "    arr = [4, 6, 7, 1, 5, 3, 0, 2]\n",
    "    print(f'Unsorted list: {arr}')\n",
    "    print(f'Sorted list: {bubble_sort(arr)}')\n",
    "\n",
    "if __name__ == \"__main__\":\n",
    "    main()"
   ]
  },
  {
   "cell_type": "markdown",
   "metadata": {},
   "source": [
    "### Counting sort"
   ]
  },
  {
   "cell_type": "markdown",
   "metadata": {},
   "source": [
    "A <b>counting sort</b> is an integer rearranging algorithm that works well with a relatively limited range. The algorithm creates a new list and counts up the occurances of the element, addings up its culmulative occurance values, and then shifts everything over by a value space to create indexing values. This matches the indexing of a new list where it'll keep populating until it reaches the index of the next element."
   ]
  },
  {
   "cell_type": "markdown",
   "metadata": {},
   "source": [
    "For example, let's say we have a list [1, 0, 3, 1, 3, 1].\n",
    "\n",
    "Since we have the values 0, 1, and 3, set up a new list where we also have the occurances for each element:\n",
    "- | 0 | 1 | 2 | 3 |\n",
    "- | 1 | 3 | 0 | 2 |\n",
    "\n",
    "Now we are going to start cumulatively add up the occurances:\n",
    "- | 0 | 1 | 2 | 3 |\n",
    "- | 1 | 4 | 4 | 6 |\n",
    "\n",
    "But we are shifting everything over by a value space:\n",
    "- | 0 | 1 | 2 | 3 |\n",
    "- | 0 | 1 | 4 | 4 |\n",
    "\n",
    "Which if we use to populate a new list, 0 will be at index 0, 1 will be at indexes 1, 2, and 3, 2 will be skipped, and 3 will be at indexes 4 and 5. This gives us the sorted list [0, 1, 1, 1, 3, 3]."
   ]
  },
  {
   "cell_type": "code",
   "execution_count": 2,
   "metadata": {},
   "outputs": [
    {
     "name": "stdout",
     "output_type": "stream",
     "text": [
      "Unsorted list: [9, 1, 2, 8, 3, 7, 5, 4, 6, 1, 2, 3, 5]\n",
      "Sorted list: [1, 1, 2, 2, 3, 3, 4, 5, 5, 6, 7, 8, 9]\n"
     ]
    }
   ],
   "source": [
    "def countingSort(arr):\n",
    "    count = [0]*(len(arr)+1)\n",
    "    for x in arr:\n",
    "        count[x] += 1\n",
    "\n",
    "    total = 0\n",
    "    for i, j in enumerate(count):\n",
    "        count[i], total = total, j + total\n",
    "\n",
    "    output = [0]*len(arr)\n",
    "    for x in arr:\n",
    "        output[count[x]] = x\n",
    "        count[x] += 1\n",
    "\n",
    "    return output\n",
    "\n",
    "def main():\n",
    "    arr = [9, 1, 2, 8, 3, 7, 5, 4, 6, 1, 2, 3, 5]\n",
    "    print(f'Unsorted list: {arr}')\n",
    "    print(f'Sorted list: {countingSort(arr)}')\n",
    "\n",
    "if __name__ == \"__main__\":\n",
    "    main()"
   ]
  },
  {
   "cell_type": "markdown",
   "metadata": {},
   "source": [
    "### Merge sort"
   ]
  },
  {
   "cell_type": "markdown",
   "metadata": {},
   "source": [
    "A <b>merge sort</b> is an algorithm that breaks apart the array into smaller parts and compare the adjacent elements before merging them with adjacent lists. The process would be repeated until all the smaller arrays are all merged back together."
   ]
  },
  {
   "cell_type": "markdown",
   "metadata": {},
   "source": [
    "For example, let's say we have a list [6, 5, 3, 1, 8, 7, 2, 4]. Split that up into pairs, so we have\n",
    "- [6, 5] [3, 1] [8, 7] [2, 4]\n",
    "\n",
    "Compare the paired elements and we have\n",
    "- [5, 6] [1, 3] [7, 8] [2, 4]\n",
    "\n",
    "Now merge the adjacent lists together. 5 compares with 1, which since 1 is smaller, 1 goes first. Now 5 compares with3, which since 3 is smaller, 3 then goes next. Since 5 comes before 6, 5 goes then 6. Once we do that for the other side, we get\n",
    "- [1, 3, 5 ,6] [2, 4, 7, 8]\n",
    "\n",
    "Do this one more time and we get [1, 2, 3, 4, 5, 6, 7, 8]."
   ]
  },
  {
   "cell_type": "code",
   "execution_count": 3,
   "metadata": {},
   "outputs": [
    {
     "name": "stdout",
     "output_type": "stream",
     "text": [
      "Unsorted list: [8, 6, 7, 5, 3, 0, 9, 2, 4, 1]\n",
      "Sorted list: [0, 1, 2, 3, 4, 5, 6, 7, 8, 9]\n"
     ]
    }
   ],
   "source": [
    "def merge_sort(unsorted_list):\n",
    "\n",
    "    if len(unsorted_list) == 1:\n",
    "        return unsorted_list\n",
    "    elif len(unsorted_list) == 2:\n",
    "        if unsorted_list[0] > unsorted_list[1]:\n",
    "            unsorted_list[0], unsorted_list[1] = unsorted_list[1], unsorted_list[0]\n",
    "        return unsorted_list\n",
    "    else:\n",
    "\n",
    "        if len(unsorted_list) %2 != 0:\n",
    "            unsorted_list_left_side = unsorted_list[0:len(unsorted_list)//2 + 1]\n",
    "            unsorted_list_right_side = unsorted_list[(len(unsorted_list) - len(unsorted_list_left_side) + 1):len(unsorted_list)]\n",
    "        else:\n",
    "            unsorted_list_left_side = unsorted_list[0:len(unsorted_list)//2]\n",
    "            unsorted_list_right_side = unsorted_list[(len(unsorted_list) - len(unsorted_list_left_side)):len(unsorted_list)]\n",
    "\n",
    "        sorted_sublist_left_side = merge_sort(unsorted_list_left_side)\n",
    "        sorted_sublist_right_side = merge_sort(unsorted_list_right_side)\n",
    "\n",
    "        sorted_list = len(sorted_sublist_left_side + sorted_sublist_right_side) * [0]\n",
    "\n",
    "        left_list_counter = 0\n",
    "        right_list_counter = 0\n",
    "        for i in range(len(sorted_list)):\n",
    "\n",
    "            if left_list_counter < len(sorted_sublist_left_side) and right_list_counter < len(sorted_sublist_right_side):\n",
    "                if sorted_sublist_left_side[left_list_counter] > sorted_sublist_right_side[right_list_counter]:\n",
    "                    sorted_list[i] = sorted_sublist_right_side[right_list_counter]\n",
    "                    right_list_counter += 1\n",
    "                else:\n",
    "                    sorted_list[i] = sorted_sublist_left_side[left_list_counter]\n",
    "                    left_list_counter += 1\n",
    "            else:\n",
    "                if left_list_counter >= len(sorted_sublist_left_side):\n",
    "                    sorted_list[i] = sorted_sublist_right_side[right_list_counter]\n",
    "                    right_list_counter += 1\n",
    "                else:\n",
    "                    sorted_list[i] = sorted_sublist_left_side[left_list_counter]\n",
    "                    left_list_counter += 1\n",
    "        return sorted_list\n",
    "\n",
    "def main():\n",
    "    unsorted_list = [8, 6, 7, 5, 3, 0, 9, 2, 4, 1]\n",
    "    print(f'Unsorted list: {unsorted_list}')\n",
    "    print(f'Sorted list: {merge_sort(unsorted_list)}')\n",
    "\n",
    "if __name__ == \"__main__\":\n",
    "    main()"
   ]
  },
  {
   "cell_type": "markdown",
   "metadata": {},
   "source": [
    "### Quicksort"
   ]
  },
  {
   "cell_type": "markdown",
   "metadata": {},
   "source": [
    "A <b>quicksort</b> is a divide-and-conquer algorithm that splits the array in half and utilises a pivot to sort. The pivot is used and swapped so that the comparisons must fulfill the conditions:\n",
    "- All items to the left are smaller\n",
    "- All items to the right are larger\n",
    "\n",
    "Once both are true, then swap the element in the pivot space with the last item (original pivot value) to move the pivot in its correct spot."
   ]
  },
  {
   "cell_type": "markdown",
   "metadata": {},
   "source": [
    "For example, let's say we have the list [8, 3, 1, 7, 0, 10, 2]. Let's select 2 as our pivot. Since 8 > 2, then we have to swap 8 behind 2. But since there's no space behind 2, we move 2 in front while booting 10 to 8's old spot. This gives us\n",
    "- [10, 3, 1, 7, 0, 2, 8]\n",
    "\n",
    "Since 10 > 2, we do the same thing and get\n",
    "- [0, 3, 1, 7, 2, 10, 8]\n",
    "\n",
    "With 0 in front, we move onto 3. Since 3 > 2, we do the same thing again and get\n",
    "- [0, 7, 1, 2, 3, 10, 8]\n",
    "\n",
    "Since 7 > 2, we swap again and get\n",
    "- [0, 1, 2, 7, 3, 10, 8]\n",
    "\n",
    "With 2 is in its right place, we now have to compare everything to the left of it and everything to the right of it to see if it is all sorted. Since 0 < 1 on the left, everything to the left of 2 is sorted. While 7 and 3 are both less than 8, 10 > 8, which means they need to be swapped. This gives us\n",
    "- [0, 1, 2, 7, 3, 8, 10]\n",
    "\n",
    "This means everything to the right of 8 is sorted. Taking a look at everything left to the left of 8, we have 7 > 3, which means they both need to be swapped. Once swapped, we have get [0, 1, 2, 3, 7, 8, 10]."
   ]
  },
  {
   "cell_type": "code",
   "execution_count": 4,
   "metadata": {},
   "outputs": [
    {
     "name": "stdout",
     "output_type": "stream",
     "text": [
      "Unsorted list: [8, 6, 7, 5, 3, 0, 9, 4, 1, 2]\n",
      "Sorted list: [0, 1, 2, 3, 4, 5, 6, 7, 8, 9]\n"
     ]
    }
   ],
   "source": [
    "def quicksort(unsorted_list):\n",
    "\n",
    "    if len(unsorted_list) <= 1:\n",
    "        return unsorted_list\n",
    "\n",
    "    pivot_index = 0\n",
    "\n",
    "    compare_index = len(unsorted_list) - 1\n",
    "    while pivot_index != compare_index:\n",
    "\n",
    "        if unsorted_list[compare_index] < unsorted_list[pivot_index]:\n",
    "            unsorted_list[compare_index], unsorted_list[pivot_index + 1] = unsorted_list[pivot_index + 1], unsorted_list[compare_index]\n",
    "            unsorted_list[pivot_index], unsorted_list[pivot_index + 1] = unsorted_list[pivot_index + 1], unsorted_list[pivot_index]\n",
    "            pivot_index += 1\n",
    "        else:\n",
    "            compare_index -= 1\n",
    "\n",
    "    sub_left_list = unsorted_list[0:pivot_index]\n",
    "    sub_right_list = unsorted_list[pivot_index + 1:len(unsorted_list)]\n",
    "    \n",
    "    sorted_sub_left_list = quicksort(sub_left_list)\n",
    "    sorted_sub_right_list = quicksort(sub_right_list)\n",
    "\n",
    "    sorted_list = sorted_sub_left_list + [unsorted_list[pivot_index]] + sorted_sub_right_list\n",
    "    return sorted_list\n",
    "\n",
    "def main():\n",
    "    unsorted_list = [8, 6, 7, 5, 3, 0, 9, 4, 1, 2]\n",
    "    print(f'Unsorted list: {unsorted_list}')\n",
    "    print(f'Sorted list: {quicksort(unsorted_list)}')\n",
    "\n",
    "if __name__ == \"__main__\":\n",
    "    main()"
   ]
  },
  {
   "cell_type": "markdown",
   "metadata": {},
   "source": [
    "### Heapsort"
   ]
  },
  {
   "cell_type": "markdown",
   "metadata": {},
   "source": [
    "A <b>heapsort</b> is a comparison-based algorithm that divides an array into sorted and unsorted regions that iteratively shrinks the unsorted region by extracting the largest value and inserting it into the sorted region."
   ]
  },
  {
   "cell_type": "markdown",
   "metadata": {},
   "source": [
    "For example, let's say we have a list [2, 8, 5, 3, 9, 1]. A max heap is created to find the largest item, and the largest item will be removed and placed in a sorted partition. Looking at the array from left to right, we get a tree from top to bottom\n",
    "- ----------2\n",
    "- ----8--------5\n",
    "- -3---9---1\n",
    "\n",
    "Assuming this is an unsorted array, we reorganise the list into [9, 8, 5, 3, 2, 1] and subsequently the max heap\n",
    "- ----------9\n",
    "- ----8--------5\n",
    "- -3---2---1\n",
    "\n",
    "Since 9 is the largest value, we swap the last value with the first value. Now the list is [1, 8, 5, 3, 2, 9], 9 is \"removed\" and considered sorted. The tree is now\n",
    "- ----------1\n",
    "- ----8--------5\n",
    "- -3---2\n",
    "\n",
    "Heapifying it, we have\n",
    "- ----------8\n",
    "- ----3--------5\n",
    "- -1---2\n",
    "\n",
    "Since 8 is now the largest value, we swap the values in our list again. Now the list is [2, 3, 5, 1, 8, 9], 8 and 9 are \"removed\" and considered sorted. The tree is now\n",
    "- ----------2\n",
    "- ----3--------5\n",
    "- -1\n",
    "\n",
    "Heapifying it, we have\n",
    "- ----------5\n",
    "- ----3--------2\n",
    "- -1\n",
    "\n",
    "The steps will continue to repeat until our list become [1, 2, 3, 5, 8, 9]."
   ]
  },
  {
   "cell_type": "code",
   "execution_count": 5,
   "metadata": {},
   "outputs": [
    {
     "name": "stdout",
     "output_type": "stream",
     "text": [
      "Unsorted list: [2, 8, 5, 3, 9, 1]\n",
      "Sorted list: [1, 2, 3, 5, 8, 9]\n"
     ]
    }
   ],
   "source": [
    "from heapq import heappop, heappush\n",
    "\n",
    "def heap_sort(arr):\n",
    "    heap = []\n",
    "    for val in arr:\n",
    "        heappush(heap, val)\n",
    "        \n",
    "    heapified = []\n",
    "    \n",
    "    while heap:\n",
    "        heapified.append(heappop(heap))\n",
    "        \n",
    "    return heapified\n",
    "\n",
    "def main():\n",
    "    arr = [2, 8, 5, 3, 9, 1]\n",
    "    print(f'Unsorted list: {arr}')\n",
    "    print(f'Sorted list: {heap_sort(arr)}')\n",
    "\n",
    "if __name__ == \"__main__\":\n",
    "    main()"
   ]
  },
  {
   "cell_type": "markdown",
   "metadata": {},
   "source": [
    "For runtime considerations, please also see: https://bigocheatsheet.io/"
   ]
  }
 ],
 "metadata": {
  "kernelspec": {
   "display_name": "Python 3",
   "language": "python",
   "name": "python3"
  },
  "language_info": {
   "codemirror_mode": {
    "name": "ipython",
    "version": 3
   },
   "file_extension": ".py",
   "mimetype": "text/x-python",
   "name": "python",
   "nbconvert_exporter": "python",
   "pygments_lexer": "ipython3",
   "version": "3.8.1"
  }
 },
 "nbformat": 4,
 "nbformat_minor": 4
}
