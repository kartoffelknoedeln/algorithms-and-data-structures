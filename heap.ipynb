{
 "cells": [
  {
   "cell_type": "markdown",
   "metadata": {},
   "source": [
    "# Heap."
   ]
  },
  {
   "cell_type": "markdown",
   "metadata": {},
   "source": [
    "A <b>heap</b> is a special tree structure that's useful in implementing a priority queue where weight is given to priority. This tree must be a completely tree, so it must be filled from left to right and every level must be full except for the last. If the heap have parent nodes greater or equal than its child nodes, then it's a <b>max heap</b>. If the heap have parent nodes less than or equal than its child nodes, then it's a <b>min heap</b>.\n",
    "\n",
    "Python already has a built-in heap library called <b>heapq</b>. The <b>heapq</b> library includes the following functions:\n",
    "- heapify\n",
    "- heappush\n",
    "- heappop\n",
    "- heapreplace\n",
    "\n",
    "for us to carry out various operations on the heap data structure."
   ]
  },
  {
   "cell_type": "markdown",
   "metadata": {},
   "source": [
    "### Insertion"
   ]
  },
  {
   "cell_type": "markdown",
   "metadata": {},
   "source": [
    "For example, we have the elements (25, 16, 24, 5, 11, 19, 1, 2, 3, 5). We are going to add each individually into our min heap tree and have it balanced out. Starting with 25 and 16, we have\n",
    "- ----------25\n",
    "- ----16\n",
    "\n",
    "Since this is a min heap, the tree will rebalanced into\n",
    "- ----------16\n",
    "- ----25\n",
    "\n",
    "Now we are adding 24 to the tree, so we have\n",
    "- ----------16\n",
    "- ----25--------24\n",
    "\n",
    "Now inserting 5, we have\n",
    "- ----------16\n",
    "- ----25--------24\n",
    "- -5\n",
    "\n",
    "But once again, this needs to be rebalanced, so we have\n",
    "- ----------5\n",
    "- ----16--------24\n",
    "- -25\n",
    "\n",
    "This will continue on as we insert the remaining values 11, 19, 1, 2, 3, and 5. Our final tree is\n",
    "- -----------------------1\n",
    "- -------------2------------------5\n",
    "- ------3------------5------24-----19\n",
    "- -25----11----16\n",
    "\n",
    "after a final round of rebalancing."
   ]
  },
  {
   "cell_type": "markdown",
   "metadata": {},
   "source": [
    "### Deletion"
   ]
  },
  {
   "cell_type": "markdown",
   "metadata": {},
   "source": [
    "If we were to remove the smallest element, and since the main parent node will always be the smallest element in a balanced tree, we remove the top. This gives us the tree\n",
    "- -----------------------X\n",
    "- -------------2------------------5\n",
    "- ------3------------5------24-----19\n",
    "- -25----11----16\n",
    "\n",
    "To rebalance it, take the lowest and rightmost element (in this case 16) and send it to the top\n",
    "- ----------------------16\n",
    "- -------------2------------------5\n",
    "- ------3------------5------24-----19\n",
    "- -25----11\n",
    "\n",
    "Once we do, we can rebalance it and get\n",
    "- -----------------------2\n",
    "- -------------3-------------------5\n",
    "- ------11---------5---------24-----19\n",
    "- -25------16\n",
    "\n",
    "after a final round of rebalancing."
   ]
  },
  {
   "cell_type": "markdown",
   "metadata": {},
   "source": [
    "So how do we represent our heap as an array? Take into consideration the following:\n",
    "\n",
    "- Parent: $\\frac{1}{2}(index - 1)$\n",
    "- Left child: $2*index + 1$\n",
    "- Right child: $2*index + 2$\n",
    "\n",
    "This will give us an array of [1, 2, 5, 3, 5, 24, 19, 25, 11, 16]. "
   ]
  },
  {
   "cell_type": "code",
   "execution_count": 1,
   "metadata": {},
   "outputs": [
    {
     "name": "stdout",
     "output_type": "stream",
     "text": [
      "Elements added and heapified: [1, 2, 5, 3, 5, 24, 19, 25, 11, 16]\n",
      "The heap is reheapified after 4 is added: [1, 2, 5, 3, 4, 24, 19, 25, 11, 16, 5]\n",
      "The heap is reheapified after the smallest element, 1, is removed: [2, 3, 5, 5, 4, 24, 19, 25, 11, 16]\n",
      "The heap is reheapified after the next smallest element, 2, is replaced with 15: [3, 4, 5, 5, 15, 24, 19, 25, 11, 16]\n"
     ]
    }
   ],
   "source": [
    "from heapq import heappush, heappop, heapreplace\n",
    "\n",
    "class minHeap:\n",
    "\n",
    "    def __init__(self):\n",
    "        self.heap = []\n",
    "\n",
    "    def parent(self, i):\n",
    "        return (i - 1)/2\n",
    "\n",
    "    def push(self, j):\n",
    "        heappush(self.heap, j)\n",
    "\n",
    "    def pop(self):\n",
    "        heappop(self.heap)\n",
    "\n",
    "    def replace(self, j):\n",
    "        heapreplace(self.heap, j)\n",
    "        \n",
    "    def returnHeap(self):\n",
    "        return self.heap\n",
    "\n",
    "if __name__ == \"__main__\":\n",
    "    heap = minHeap()\n",
    "    arr = [25, 16, 24, 5, 11, 19, 1, 2, 3, 5]\n",
    "\n",
    "    [heap.push(item) for item in arr]\n",
    "    print(f'Elements added and heapified: {heap.returnHeap()}')\n",
    "\n",
    "    heap.push(4)\n",
    "    print(f'The heap is reheapified after 4 is added: {heap.returnHeap()}')\n",
    "\n",
    "    heap.pop()\n",
    "    print(f'The heap is reheapified after the smallest element, 1, is removed: {heap.returnHeap()}')\n",
    "\n",
    "    heap.replace(15)\n",
    "    print(f'The heap is reheapified after the next smallest element, 2, is replaced with 15: {heap.returnHeap()}')"
   ]
  },
  {
   "cell_type": "markdown",
   "metadata": {},
   "source": [
    "For runtime considerations, please also see: https://bigocheatsheet.io/ <br>\n",
    "Special thanks to https://www.cs.usfca.edu/~galles/visualization/Heap.html for visualisation."
   ]
  }
 ],
 "metadata": {
  "kernelspec": {
   "display_name": "Python 3",
   "language": "python",
   "name": "python3"
  },
  "language_info": {
   "codemirror_mode": {
    "name": "ipython",
    "version": 3
   },
   "file_extension": ".py",
   "mimetype": "text/x-python",
   "name": "python",
   "nbconvert_exporter": "python",
   "pygments_lexer": "ipython3",
   "version": "3.8.1"
  }
 },
 "nbformat": 4,
 "nbformat_minor": 4
}
