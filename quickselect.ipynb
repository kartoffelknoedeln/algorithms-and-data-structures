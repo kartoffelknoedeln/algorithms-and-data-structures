{
 "cells": [
  {
   "cell_type": "markdown",
   "metadata": {},
   "source": [
    "# Quickselect"
   ]
  },
  {
   "cell_type": "markdown",
   "metadata": {},
   "source": [
    "<b>Quickselect</b> is a selection algorithm used to find the <i>n</i>th smallest element in an unordered list."
   ]
  },
  {
   "cell_type": "markdown",
   "metadata": {},
   "source": [
    "Given an array [8 9 7 6 5 4 2 3 1], the length of the array is 9. Set the left value to be 0 and the right value to be 9. The pivot will be randomly chosen. For this example, let it be index 5 (value is also 5). Since 5 > 1, swap the values in the array\n",
    "- [8 9 7 6 1 4 2 3 5]\n",
    "\n",
    "Now we compare each values starting from the left to see which is smaller than 5. 8, 9, 7, and 6 fails, but 1 is smaller than 5, so 1 and 8 are going to swap\n",
    "- [1 9 7 6 8 4 2 3 5]\n",
    "\n",
    "and more the left value over by 1 to 9. Now we compare 4 with 5, and since 5 > 4, we swap 4 and 9 to get\n",
    "- [1 4 7 6 8 9 2 3 5]\n",
    "\n",
    "This repeats with swapping 2 and 7 because 5 > 2\n",
    "- [1 4 2 6 8 9 7 3 5]\n",
    "\n",
    "and 6 and 3 as well because 5 > 3\n",
    "- [1 4 2 3 8 9 7 6 5]\n",
    "\n",
    "Now that we hit an end, swap 8 and 5\n",
    "- [1 4 2 3 5 9 7 6 8]\n",
    "\n",
    "This is 5's final position in the array, so now we check the following conditions:\n",
    "- $i \\equiv length - k$: Stop.\n",
    "- $1 \\neq length - k$: Continue.\n",
    "\n",
    "This process continues until the condition is fulfilled."
   ]
  },
  {
   "cell_type": "code",
   "execution_count": 1,
   "metadata": {},
   "outputs": [
    {
     "name": "stdout",
     "output_type": "stream",
     "text": [
      "The array's value at the 6th indexing position: 7\n"
     ]
    }
   ],
   "source": [
    "import random\n",
    "\n",
    "def partition(arr, left, right, pivotIndex):\n",
    "    pivotValue = arr[pivotIndex]\n",
    "    arr[pivotIndex], arr[right] = arr[right], arr[pivotIndex]\n",
    "    storedIndex = left\n",
    "\n",
    "    for i in range(left, right):\n",
    "        if arr[i] < pivotValue:\n",
    "            arr[storedIndex], arr[i] = arr[i], arr[storedIndex]\n",
    "            storedIndex += 1\n",
    "    arr[right], arr[storedIndex] = arr[storedIndex], arr[right]\n",
    "    return storedIndex\n",
    "\n",
    "def select(arr, left, right, k):\n",
    "\n",
    "    while True:\n",
    "        if left == right:\n",
    "            return arr[left]\n",
    "        pivotIndex = random.randint(left, right)\n",
    "        pivotIndex = partition(arr, left, right, pivotIndex)\n",
    "\n",
    "        if k == pivotIndex:\n",
    "            return arr[k]\n",
    "        elif k < pivotIndex:\n",
    "            right = pivotIndex - 1\n",
    "        else:\n",
    "            left = pivotIndex + 1\n",
    "\n",
    "if __name__ == '__main__':\n",
    "    arr = [8, 9, 7, 6, 5, 4, 2, 3, 1]\n",
    "    print(f\"The array's value at the 6th indexing position: {select(arr, 0, len(arr) - 1, 6)}\")"
   ]
  },
  {
   "cell_type": "markdown",
   "metadata": {},
   "source": [
    "For runtime considerations, please also see: https://bigocheatsheet.io/"
   ]
  }
 ],
 "metadata": {
  "kernelspec": {
   "display_name": "Python 3",
   "language": "python",
   "name": "python3"
  },
  "language_info": {
   "codemirror_mode": {
    "name": "ipython",
    "version": 3
   },
   "file_extension": ".py",
   "mimetype": "text/x-python",
   "name": "python",
   "nbconvert_exporter": "python",
   "pygments_lexer": "ipython3",
   "version": "3.8.1"
  }
 },
 "nbformat": 4,
 "nbformat_minor": 4
}
