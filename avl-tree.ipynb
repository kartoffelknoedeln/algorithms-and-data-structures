{
 "cells": [
  {
   "cell_type": "markdown",
   "metadata": {},
   "source": [
    "# AVL tree"
   ]
  },
  {
   "cell_type": "markdown",
   "metadata": {},
   "source": [
    "A <b>tree</b> is a data structure that contains a parent and at most two children nodes. The following\n",
    "- ---1\n",
    "- 2----3\n",
    "\n",
    "is a basic <b>tree</b>. An <b>AVL tree</b> is a self-balancing <b>binary search tree</b>, so the left child must always be less than its parent and the right child must always be greater than its parent as well. For the tree above to be an <b>AVL tree</b>, it must be rebalanced into\n",
    "- ---2\n",
    "- 1----3\n",
    "\n",
    "just like a <b>binary search tree</b>."
   ]
  },
  {
   "cell_type": "markdown",
   "metadata": {},
   "source": [
    "### Balance"
   ]
  },
  {
   "cell_type": "markdown",
   "metadata": {},
   "source": [
    "The following AVL tree\n",
    "- ------------5\n",
    "- --------4------6\n",
    "- ---2\n",
    "- 1----3\n",
    "\n",
    "is not a <b>balanced</b> AVL tree. This is because unlike a binary search tree, <b>balance</b> for an AVL tree must have a height difference of 1 or less between the left and right child node. Because the height difference betweens node 1 (or 3) and node 6 is 2, this tree is imbalanced. For the tree above to be <b>balanced</b>, node 3 becomes the right child of node 4 and they swap\n",
    "- ---------------5\n",
    "- ---------3---------6\n",
    "- ----2------4\n",
    "- -1\n",
    "\n",
    "Now the tree is <b>balanced</b>. If a tree also looks like this\n",
    "- --------------4\n",
    "- --------2----------6\n",
    "- ----------------5-------8\n",
    "- ----------------------7----10\n",
    "\n",
    "it's also not <b>balanced</b>. So do the trees rebalance? Through rotations."
   ]
  },
  {
   "cell_type": "markdown",
   "metadata": {},
   "source": [
    "### Left rotation"
   ]
  },
  {
   "cell_type": "markdown",
   "metadata": {},
   "source": [
    "Going back to the unbalanced tree\n",
    "- --------------4\n",
    "- --------2----------6\n",
    "- ----------------5-------8\n",
    "- ----------------------7----10\n",
    "\n",
    "To rebalance it, we use a <b>left rotate</b>. Using the <b>left rotate</b> on 6, our new tree structure will look like\n",
    "- ---6\n",
    "- 4----8\n",
    "\n",
    "where nodes 4 and 8 preserve their children nodes. The left child node of node 6 will become the right child node of node 4. The tree then looks like\n",
    "- --------------6\n",
    "- -------4------------8\n",
    "- ---2------5-----7-----10\n",
    "\n",
    "which is balanced correctly."
   ]
  },
  {
   "cell_type": "markdown",
   "metadata": {},
   "source": [
    "### Right rotation"
   ]
  },
  {
   "cell_type": "markdown",
   "metadata": {},
   "source": [
    "We are given the unbalanced tree\n",
    "- ----------------8\n",
    "- ---------6-----------10\n",
    "- ----4-------7\n",
    "- 2-----5\n",
    "\n",
    "To rebalance it, we use a <b>right rotate</b>. Using the <b>right rotate</b> on 6, our new tree structure will look like\n",
    "- ---6\n",
    "- 4----8\n",
    "\n",
    "where nodes 4 and 8 preserve their children nodes. The right child node of node 6 will become the left child node of node 8. The tree then looks like\n",
    "- --------------6\n",
    "- -------4------------8\n",
    "- ---2------5-----7-----10\n",
    "\n",
    "which is balanced correctly."
   ]
  },
  {
   "cell_type": "markdown",
   "metadata": {},
   "source": [
    "### Insertion"
   ]
  },
  {
   "cell_type": "markdown",
   "metadata": {},
   "source": [
    "<b>Insertion</b> will be the same as it was under a binary search tree, except rotations will also be needed. Consider the cases:\n",
    "\n",
    "case #1\n",
    "- ---------c\n",
    "- ----b\n",
    "- -a\n",
    "\n",
    "case #2\n",
    "- ---------c\n",
    "- ----b\n",
    "- -------a\n",
    "\n",
    "case #3\n",
    "- ---------c\n",
    "- --------------b\n",
    "- ------------a\n",
    "\n",
    "case #4\n",
    "- ---------c\n",
    "- --------------b\n",
    "- -----------------a\n",
    "\n",
    "where <i>c</i> is the first unbalanced node, <i>b</i> is the child node of <i>c</i>, and <i>a</i> is the child node of <i>b</i>."
   ]
  },
  {
   "cell_type": "markdown",
   "metadata": {},
   "source": [
    "For case #1, we just need to right rotate <i>c</i>. Now our tree becomes\n",
    "- ----b\n",
    "- a------c"
   ]
  },
  {
   "cell_type": "markdown",
   "metadata": {},
   "source": [
    "For case #2, we just need to left rotate <i>b</i> to get\n",
    "- ---------c\n",
    "- ----a\n",
    "- -b\n",
    "\n",
    "\n",
    "and right rotate <i>c</i>. Now our tree becomes\n",
    "- ----a\n",
    "- b------c"
   ]
  },
  {
   "cell_type": "markdown",
   "metadata": {},
   "source": [
    "For case #3, we just need to right rotate <i>b</i> to get\n",
    "- ---------c\n",
    "- --------------a\n",
    "- -----------------b\n",
    "\n",
    "\n",
    "and left rotate <i>c</i>. Now our tree becomes\n",
    "- ----a\n",
    "- c------b"
   ]
  },
  {
   "cell_type": "markdown",
   "metadata": {},
   "source": [
    "For case #4, we just need to left rotate <i>c</i>. Now our tree becomes\n",
    "- ----b\n",
    "- c------a"
   ]
  },
  {
   "cell_type": "markdown",
   "metadata": {},
   "source": [
    "### Deletion"
   ]
  },
  {
   "cell_type": "markdown",
   "metadata": {},
   "source": [
    "<b>Deletion</b> is almost just like insertion above, but rotating the nodes might not fix other possible node issues throughout the tree. If that becomes a problem, the rebalancing has to trace its way back up to the root. For example, consider the tree\n",
    "- ----------------6\n",
    "- ---------4--------------10\n",
    "- -----2------5-------8------11\n",
    "- -1----------------7----9\n",
    "\n",
    "We have the following cases:\n",
    "- If we delete a node 1, nothing needs to be done because the tree is still balanced and the height is still no more than 1 between nodes.\n",
    "- If we delete node 10, node 11 will take node 10's place, the 7-8-11 branch will left-left rotate, and node 9 will node 11's left child node to preserve the tree's balance and height.\n",
    "- If we delete node 5, balance is preserved but not height. Right rotate node 4 so it becomes the right child node of node 2 to preserve both balance and height of the tree.\n",
    "- If we delete node 6, node 5 will take node 6's place, and the 1-2-4 branch will right rotate to preserve the tree's balance and height.\n",
    "\n",
    "As trees get deeper, the rebalancing will need to be done continuously up the tree to maintain both the height and balance criterias."
   ]
  },
  {
   "cell_type": "markdown",
   "metadata": {},
   "source": [
    "### Height"
   ]
  },
  {
   "cell_type": "markdown",
   "metadata": {},
   "source": [
    "The <b>height</b> of a tree is defined as the longest path from the root node to its longest node. The <b>height</b> of a tree with one node is 0, and the <b>height</b> of an empty tree is -1. For our previous tree\n",
    "- --------------50\n",
    "- ------25---------------75\n",
    "- 15-------40-----60-------85\n",
    "\n",
    "The <b>height</b> is 2 for all paths. If another node was added so the tree becomes\n",
    "- -------------------50\n",
    "- --------25------------------75\n",
    "- 15------------40-----60-------85\n",
    "- -----------30\n",
    "\n",
    "The <b>height</b> is 2 for all paths except for the child node 30, which has a <b>height</b> of 3."
   ]
  },
  {
   "cell_type": "code",
   "execution_count": 1,
   "metadata": {},
   "outputs": [
    {
     "name": "stdout",
     "output_type": "stream",
     "text": [
      "For the array [50 25 75 15 40 60 85], we have\n",
      "Height: 3\n",
      "Balance: 0\n",
      "50 25 15 40 75 60 85 (Preorder sort)\n",
      "15 25 40 50 60 75 85 (Inorder sort)\n",
      "15 40 25 60 85 75 50 (Postorder sort)\n",
      "\n",
      "After deleting 15, 40, and 50 from the tree, we have\n",
      "Height: 3\n",
      "Balance: -1\n",
      "60 25 75 85 (Preorder sort)\n",
      "25 60 75 85 (Inorder sort)\n",
      "25 85 75 60 (Postorder sort)\n"
     ]
    }
   ],
   "source": [
    "class treeNode:\n",
    "    def __init__(self, val):\n",
    "        self.left = None\n",
    "        self.right = None\n",
    "        self.val = val\n",
    "        self.height = 1\n",
    "\n",
    "    def insert(self, node, val):\n",
    "        if node:    \n",
    "            if val < node.val:\n",
    "                node.left = self.insert(node.left, val)\n",
    "            else:\n",
    "                node.right = self.insert(node.right, val)\n",
    "        else:\n",
    "            return treeNode(val)\n",
    "\n",
    "        node.height = 1 + max(self.treeHeight(node.left), self.treeHeight(node.right))\n",
    "        balance = self.treeBalance(node)\n",
    "\n",
    "        if balance > 1: ## Left case\n",
    "            if val < node.left.val: ## Left-left\n",
    "                return self.rightRotate(node)\n",
    "            else: ## Left-right\n",
    "                node.left = self.leftRotate(node.left) \n",
    "                return self.rightRotate(node) \n",
    "\n",
    "        if balance < -1: ## Right case\n",
    "            if val < node.right.val: ## Right-left\n",
    "                node.right = self.rightRotate(node.right) \n",
    "                return self.leftRotate(node) \n",
    "            else: ## Right-right\n",
    "                return self.leftRotate(node)      \n",
    "        return node\n",
    "\n",
    "    def delete(self, root, val): \n",
    "        if root or root is not None:\n",
    "            if val < root.val: \n",
    "                root.left = self.delete(root.left, val) \n",
    "            elif val > root.val: \n",
    "                root.right = self.delete(root.right, val) \n",
    "            else: \n",
    "                  \n",
    "                if root.left is None: \n",
    "                    temp = root.right  \n",
    "                    root = None \n",
    "                    return temp  \n",
    "                      \n",
    "                if root.right is None: \n",
    "                    temp = root.left  \n",
    "                    root = None\n",
    "                    return temp \n",
    "          \n",
    "                temp = self.min(root.right) \n",
    "                root.val = temp.val \n",
    "                root.right = self.delete(root.right, temp.val)\n",
    "        else:\n",
    "            return root\n",
    "\n",
    "        root.height = 1 + max(self.treeHeight(root.left), self.treeHeight(root.right))\n",
    "        balance = self.treeBalance(root)\n",
    "\n",
    "        if balance > 1: ## Left case\n",
    "            if self.treeBalance(root.left) > -1: ## Left-left\n",
    "                return self.rightRotate(root)\n",
    "            else: ## Left-right\n",
    "                root.left = self.leftRotate(root.left)\n",
    "                return self.rightRotate(root)\n",
    "            \n",
    "        if balance < -1: ## Right case\n",
    "            if self.treeBalance(root.right) < 1: ## Right-left\n",
    "                return self.leftRotate(root)\n",
    "            else: ## Right-right\n",
    "                root.right = self.rightRotate(root.right)\n",
    "                return self.leftRotate(root)\n",
    "           \n",
    "        return root\n",
    "\n",
    "    def leftRotate(self, z):\n",
    "        y = z.right\n",
    "        T2 = y.left\n",
    "\n",
    "        y.left = z\n",
    "        z.right = T2\n",
    "\n",
    "        z.height = 1 + max(self.treeHeight(z.left), self.treeHeight(z.right))\n",
    "        y.height = 1 + max(self.treeHeight(y.left), self.treeHeight(y.right))\n",
    "\n",
    "        return y\n",
    "    \n",
    "    def rightRotate(self, z):\n",
    "        y = z.left\n",
    "        T3 = y.right\n",
    "\n",
    "        y.right = z\n",
    "        z.left = T3\n",
    "\n",
    "        z.height = 1 + max(self.treeHeight(z.left), self.treeHeight(z.right))\n",
    "        y.height = 1 + max(self.treeHeight(y.left), self.treeHeight(y.right))\n",
    "\n",
    "        return y\n",
    "\n",
    "    def treeHeight(self, node):\n",
    "        if not node:\n",
    "            return 0\n",
    "        return node.height\n",
    "\n",
    "    def treeBalance(self, node):\n",
    "        if not node:\n",
    "            return 0\n",
    "        return self.treeHeight(node.left) - self.treeHeight(node.right)\n",
    "\n",
    "    def min(self, root):\n",
    "        if root is None or root.left is None: \n",
    "            return root \n",
    "        return self.min(root.left) \n",
    "\n",
    "    def preOrder(self, root):\n",
    "        if root:\n",
    "            print(root.val, end=' ')\n",
    "            self.preOrder(root.left)\n",
    "            self.preOrder(root.right)\n",
    "\n",
    "    def inOrder(self, root):\n",
    "        if root:\n",
    "            self.inOrder(root.left)\n",
    "            print(root.val, end=' ')\n",
    "            self.inOrder(root.right)\n",
    "\n",
    "    def postOrder(self, root):\n",
    "        if root:\n",
    "            self.postOrder(root.left)\n",
    "            self.postOrder(root.right)\n",
    "            print(root.val, end=' ')\n",
    "\n",
    "if __name__ == '__main__':\n",
    "    ## Insertion\n",
    "    root = treeNode(50)\n",
    "    root = root.insert(root, 25)\n",
    "    root = root.insert(root, 75)\n",
    "    root = root.insert(root, 15)\n",
    "    root = root.insert(root, 40)\n",
    "    root = root.insert(root, 60)\n",
    "    root = root.insert(root, 85)\n",
    "    \n",
    "    print('For the array [50 25 75 15 40 60 85], we have')\n",
    "    print(f'Height: {root.treeHeight(root)}')\n",
    "    print(f'Balance: {root.treeBalance(root)}')\n",
    "    root.preOrder(root)\n",
    "    print('(Preorder sort)')\n",
    "    root.inOrder(root)\n",
    "    print('(Inorder sort)')\n",
    "    root.postOrder(root)\n",
    "    print('(Postorder sort)')\n",
    "    print()\n",
    "    \n",
    "    print('After deleting 15, 40, and 50 from the tree, we have')\n",
    "    root = root.delete(root, 15)\n",
    "    root = root.delete(root, 40)\n",
    "    root = root.delete(root, 50)\n",
    "    print(f'Height: {root.treeHeight(root)}')\n",
    "    print(f'Balance: {root.treeBalance(root)}')\n",
    "    root.preOrder(root)\n",
    "    print('(Preorder sort)')\n",
    "    root.inOrder(root)\n",
    "    print('(Inorder sort)')\n",
    "    root.postOrder(root)\n",
    "    print('(Postorder sort)')"
   ]
  },
  {
   "cell_type": "markdown",
   "metadata": {},
   "source": [
    "For runtime considerations, please also see: https://bigocheatsheet.io/"
   ]
  }
 ],
 "metadata": {
  "kernelspec": {
   "display_name": "Python 3",
   "language": "python",
   "name": "python3"
  },
  "language_info": {
   "codemirror_mode": {
    "name": "ipython",
    "version": 3
   },
   "file_extension": ".py",
   "mimetype": "text/x-python",
   "name": "python",
   "nbconvert_exporter": "python",
   "pygments_lexer": "ipython3",
   "version": "3.8.1"
  }
 },
 "nbformat": 4,
 "nbformat_minor": 4
}
