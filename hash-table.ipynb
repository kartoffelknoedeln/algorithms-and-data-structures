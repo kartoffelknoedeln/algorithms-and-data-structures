{
 "cells": [
  {
   "cell_type": "markdown",
   "metadata": {},
   "source": [
    "# Hash-table."
   ]
  },
  {
   "cell_type": "markdown",
   "metadata": {},
   "source": [
    "A hash-table is a data structure that maps keys to values. Keys are generally either integers or strings, and values are any types of data stored. This is made possible through a <b>hash function</b>, which is a function that converts a key into an array index.\n",
    "\n",
    "Python already has a built-in hash-table called a <b>dictionary</b> that is widely used."
   ]
  },
  {
   "cell_type": "markdown",
   "metadata": {},
   "source": [
    "Thanks to https://www.henleypassportindex.com/global-ranking, we have data over how powerful certain passports are.\n",
    "\n",
    "If we want to look up a country and see how many visa-free destination its passport allows, a hash table allows a certain key (country) to get to a certain value (numbers). If it was done as a dictionary, it would look like:"
   ]
  },
  {
   "cell_type": "code",
   "execution_count": 1,
   "metadata": {},
   "outputs": [
    {
     "name": "stdout",
     "output_type": "stream",
     "text": [
      "Passport dictionary---\n",
      "{'Japan': 193, 'Singapore': 192, 'South Korea': 191, 'Germany': 191, 'Italy': 190, 'Finland': 190, 'Spain': 190, 'Luxembourg': 190}\n",
      "\n",
      "Finland: 190\n",
      "\n",
      "Removing Finland---\n",
      "{'Japan': 193, 'Singapore': 192, 'South Korea': 191, 'Germany': 191, 'Italy': 190, 'Spain': 190, 'Luxembourg': 190}\n"
     ]
    }
   ],
   "source": [
    "passport = {}\n",
    "\n",
    "# adding entries\n",
    "passport['Japan'] = 193\n",
    "passport['Singapore'] = 192\n",
    "passport['South Korea'] = 191\n",
    "passport['Germany'] = 191\n",
    "passport['Italy'] = 190\n",
    "passport['Finland'] = 190\n",
    "passport['Spain'] = 190\n",
    "passport['Luxembourg'] = 190\n",
    "\n",
    "# output\n",
    "print('Passport dictionary---')\n",
    "print(passport)\n",
    "print()\n",
    "\n",
    "# select entry\n",
    "print(f\"Finland: {passport['Finland']}\")\n",
    "print()\n",
    "\n",
    "# remove entry\n",
    "print('Removing Finland---')\n",
    "passport.pop('Finland')\n",
    "print(passport)"
   ]
  },
  {
   "cell_type": "markdown",
   "metadata": {},
   "source": [
    "Now coding the hash table from scratch.\n",
    "\n",
    "The centrepiece of a hash table is the <b>hash function</b>, which takes the character values of the key, adds them up, and has a value generated from modulo a size value. For example, the character values of \"Finland\" are 70, 105, 110, 108, 97, 110, and 100. The total sum is 600, and the modulo 511 gives us the index value 89.\n",
    "\n",
    "- $600 \\pmod{511} \\equiv 89$\n",
    "\n",
    "The index value is then used as the location where the data is stored.\n",
    "\n",
    "But what happens if two values map to the same index? This is what is called a <b>hash collision</b>. One way to resolve a hash collision is to insert the value into the next available spot. This is called <b>opened addressing</b>.The other way is to have a linked list at an indexing position and have values chained. This is called <b>closed addressing</b>."
   ]
  },
  {
   "cell_type": "code",
   "execution_count": 2,
   "metadata": {},
   "outputs": [
    {
     "name": "stdout",
     "output_type": "stream",
     "text": [
      "Adding entries---\n",
      "[['Italy', 190]]\n",
      "[['South Korea', 191]]\n",
      "[['Luxembourg', 190]]\n",
      "[['Finland', 190]]\n",
      "[['Germany', 191]]\n",
      "[['Singapore', 192]]\n",
      "[['Japan', 193]]\n",
      "[['Spain', 190]]\n",
      "\n",
      "Finland: 190\n",
      "\n",
      "Deleting Finland---\n",
      "[['Italy', 190]]\n",
      "[['South Korea', 191]]\n",
      "[['Luxembourg', 190]]\n",
      "[]\n",
      "[['Germany', 191]]\n",
      "[['Singapore', 192]]\n",
      "[['Japan', 193]]\n",
      "[['Spain', 190]]\n",
      "\n",
      "Finland: None\n"
     ]
    }
   ],
   "source": [
    "class hashTable:\n",
    "    def __init__(self):\n",
    "        self.size = 511\n",
    "        self.map = [None] * self.size\n",
    "\n",
    "    def _get_hash(self, key):\n",
    "        hash = 0\n",
    "        for char in str(key):\n",
    "            hash += ord(char)\n",
    "        return hash % self.size\n",
    "\n",
    "    def add(self, key, value):\n",
    "        key_hash = self._get_hash(key)\n",
    "        key_value = [key, value]\n",
    "\n",
    "        if self.map[key_hash] is None:\n",
    "            self.map[key_hash] = list([key_value])\n",
    "            return True\n",
    "        else:\n",
    "            for pair in self.map[key_hash]:\n",
    "                if pair[0] == key:\n",
    "                    pair[1] = value\n",
    "                    return True\n",
    "            self.map[key_hash].append(key_value)\n",
    "            return True\n",
    "\n",
    "    def get(self, key):\n",
    "        key_hash = self._get_hash(key)\n",
    "        if self.map[key_hash] is not None:\n",
    "            for pair in self.map[key_hash]:\n",
    "                if pair[0] == key:\n",
    "                    return pair[1]\n",
    "        return None\n",
    "\n",
    "    def delete(self, key):\n",
    "        key_hash = self._get_hash(key)\n",
    "\n",
    "        if self.map[key_hash] is None:\n",
    "            return False\n",
    "\n",
    "        for i in range(0, len(self.map[key_hash])):\n",
    "            if self.map[key_hash][i][0] == key:\n",
    "                self.map[key_hash].pop(i)\n",
    "                return False\n",
    "\n",
    "    def print(self):\n",
    "        for item in self.map:\n",
    "            if item is not None:\n",
    "                print(str(item))\n",
    "\n",
    "if __name__ == \"__main__\":\n",
    "    hashtable = hashTable()\n",
    "\n",
    "    print('Adding entries---')\n",
    "    hashtable.add('Japan', 193)\n",
    "    hashtable.add('Singapore', 192)\n",
    "    hashtable.add('South Korea', 191)\n",
    "    hashtable.add('Germany', 191)\n",
    "    hashtable.add('Italy', 190)\n",
    "    hashtable.add('Finland', 190)\n",
    "    hashtable.add('Spain', 190)\n",
    "    hashtable.add('Luxembourg', 190)\n",
    "\n",
    "    hashtable.print()\n",
    "    print()\n",
    "\n",
    "    print(f\"Finland: {hashtable.get('Finland')}\")\n",
    "    print()\n",
    "\n",
    "    print('Deleting Finland---')\n",
    "    hashtable.delete('Finland')\n",
    "\n",
    "    hashtable.print()\n",
    "    print()\n",
    "\n",
    "    print(f\"Finland: {hashtable.get('Finland')}\")"
   ]
  },
  {
   "cell_type": "markdown",
   "metadata": {},
   "source": [
    "For runtime considerations, please also see: https://bigocheatsheet.io/"
   ]
  }
 ],
 "metadata": {
  "kernelspec": {
   "display_name": "Python 3",
   "language": "python",
   "name": "python3"
  },
  "language_info": {
   "codemirror_mode": {
    "name": "ipython",
    "version": 3
   },
   "file_extension": ".py",
   "mimetype": "text/x-python",
   "name": "python",
   "nbconvert_exporter": "python",
   "pygments_lexer": "ipython3",
   "version": "3.8.1"
  }
 },
 "nbformat": 4,
 "nbformat_minor": 4
}
