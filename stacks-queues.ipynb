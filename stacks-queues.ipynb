{
 "cells": [
  {
   "cell_type": "markdown",
   "metadata": {},
   "source": [
    "# Stacks and queues."
   ]
  },
  {
   "cell_type": "markdown",
   "metadata": {},
   "source": [
    "### Stacks"
   ]
  },
  {
   "cell_type": "markdown",
   "metadata": {},
   "source": [
    "<b>Stacks</b> are a type of data structures that is <b>LIFO</b>, which means it's last-in-first-out. This means in a list, whenever elements are added into the list, the last element that gets added will be the first one that gets removed."
   ]
  },
  {
   "cell_type": "markdown",
   "metadata": {},
   "source": [
    "For example, let's say we have an empty list [ ].\n",
    "\n",
    "If we add elements 1, 2, 3, and 4 in order, we have [1, 2, 3, 4]. If we were to remove an element, and since this is <b>LIFO</b>, 4 will be removed first because it's the last element.\n",
    "\n",
    "After removal, we now have [1, 2, 3]."
   ]
  },
  {
   "cell_type": "code",
   "execution_count": 1,
   "metadata": {},
   "outputs": [
    {
     "name": "stdout",
     "output_type": "stream",
     "text": [
      "Is the stack empty?\n",
      "True\n",
      "\n",
      "Adding elements 1, 2, 3, and 4...\n",
      "... done.\n",
      "\n",
      "Is the stack empty?\n",
      "False\n",
      "\n",
      "What is the stack now?\n",
      "[1, 2, 3, 4]\n",
      "Removing an element (LIFO)...\n",
      "... done.\n",
      "\n",
      "What is the stack now?\n",
      "[1, 2, 3]\n"
     ]
    }
   ],
   "source": [
    "class Stacks:\n",
    "    def __init__(self):\n",
    "        self.node = []\n",
    "\n",
    "    def isEmpty(self):\n",
    "        return self.node == []\n",
    "\n",
    "    def peek(self):\n",
    "        return self.node\n",
    "\n",
    "    def push(self, node):\n",
    "        return self.node.append(node)\n",
    "\n",
    "    def pop(self):\n",
    "        return self.node.pop()\n",
    "\n",
    "if __name__ == \"__main__\":\n",
    "    Stacking = Stacks()\n",
    "    print('Is the stack empty?')\n",
    "    print(Stacking.isEmpty())\n",
    "    print()\n",
    "\n",
    "    print('Adding elements 1, 2, 3, and 4...')\n",
    "    Stacking.push(1)\n",
    "    Stacking.push(2)\n",
    "    Stacking.push(3)\n",
    "    Stacking.push(4)\n",
    "    print('... done.')\n",
    "    print()\n",
    "\n",
    "    print('Is the stack empty?')\n",
    "    print(Stacking.isEmpty())\n",
    "    print()\n",
    "\n",
    "    print('What is the stack now?')\n",
    "    print(Stacking.peek())\n",
    "\n",
    "    print('Removing an element (LIFO)...')\n",
    "    Stacking.pop()\n",
    "    print('... done.')\n",
    "    print()\n",
    "\n",
    "    print('What is the stack now?')\n",
    "    print(Stacking.peek())"
   ]
  },
  {
   "cell_type": "markdown",
   "metadata": {},
   "source": [
    "### Queues"
   ]
  },
  {
   "cell_type": "markdown",
   "metadata": {},
   "source": [
    "<b>Queues</b> are a type of data structures that is <b>FIFO</b>, which means it's first-in-first-out. This means in a list, whenever elements are added into the list, the first element that gets added will be the first one that gets removed."
   ]
  },
  {
   "cell_type": "markdown",
   "metadata": {},
   "source": [
    "For example, let's say we have an empty list [ ].\n",
    "\n",
    "If we add elements 1, 2, 3, and 4 in order, we have [1, 2, 3, 4]. If we were to remove an element, and since this is <b>FIFO</b>, 1 will be removed first because it's the first element.\n",
    "\n",
    "After removal, we now have [2, 3, 4]."
   ]
  },
  {
   "cell_type": "code",
   "execution_count": 2,
   "metadata": {},
   "outputs": [
    {
     "name": "stdout",
     "output_type": "stream",
     "text": [
      "Is the stack empty?\n",
      "True\n",
      "\n",
      "Adding elements 1, 2, 3, and 4...\n",
      "... done.\n",
      "\n",
      "Is the stack empty?\n",
      "False\n",
      "\n",
      "What is the stack now?\n",
      "[1, 2, 3, 4]\n",
      "Removing an element... (FIFO)\n",
      "... done.\n",
      "\n",
      "What is the stack now?\n",
      "[2, 3, 4]\n"
     ]
    }
   ],
   "source": [
    "class Queues:\n",
    "    def __init__(self):\n",
    "        self.node = []\n",
    "\n",
    "    def isEmpty(self):\n",
    "        return self.node == []\n",
    "\n",
    "    def peek(self):\n",
    "        return self.node\n",
    "\n",
    "    def enqueue(self, node):\n",
    "        return self.node.append(node)\n",
    "\n",
    "    def dequeue(self):\n",
    "        return self.node.pop(0)\n",
    "\n",
    "if __name__ == \"__main__\":\n",
    "    Queuing = Queues()\n",
    "    print('Is the stack empty?')\n",
    "    print(Queuing.isEmpty())\n",
    "    print()\n",
    "\n",
    "    print('Adding elements 1, 2, 3, and 4...')\n",
    "    Queuing.enqueue(1)\n",
    "    Queuing.enqueue(2)\n",
    "    Queuing.enqueue(3)\n",
    "    Queuing.enqueue(4)\n",
    "    print('... done.')\n",
    "    print()\n",
    "\n",
    "    print('Is the stack empty?')\n",
    "    print(Queuing.isEmpty())\n",
    "    print()\n",
    "\n",
    "    print('What is the stack now?')\n",
    "    print(Queuing.peek())\n",
    "\n",
    "    print('Removing an element... (FIFO)')\n",
    "    Queuing.dequeue()\n",
    "    print('... done.')\n",
    "    print()\n",
    "\n",
    "    print('What is the stack now?')\n",
    "    print(Queuing.peek())"
   ]
  },
  {
   "cell_type": "markdown",
   "metadata": {},
   "source": [
    "For runtime considerations, please also see: https://bigocheatsheet.io/"
   ]
  }
 ],
 "metadata": {
  "kernelspec": {
   "display_name": "Python 3",
   "language": "python",
   "name": "python3"
  },
  "language_info": {
   "codemirror_mode": {
    "name": "ipython",
    "version": 3
   },
   "file_extension": ".py",
   "mimetype": "text/x-python",
   "name": "python",
   "nbconvert_exporter": "python",
   "pygments_lexer": "ipython3",
   "version": "3.8.1"
  }
 },
 "nbformat": 4,
 "nbformat_minor": 4
}
