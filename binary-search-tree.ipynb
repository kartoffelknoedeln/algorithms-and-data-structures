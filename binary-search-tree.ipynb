{
 "cells": [
  {
   "cell_type": "markdown",
   "metadata": {},
   "source": [
    "# Binary search tree."
   ]
  },
  {
   "cell_type": "markdown",
   "metadata": {},
   "source": [
    "A <b>tree</b> is a data structure that contains a parent and at most two children nodes. The following\n",
    "- ---1\n",
    "- 2----3\n",
    "\n",
    "is a basic tree. For a <b>binary search tree</b>, the left child must always be less than its parent, while the right child must always be greater than its parent. For the tree above to be a binary tree, it must be rebalanced into\n",
    "- ---2\n",
    "- 1----3\n",
    "\n",
    "The tree will always default left, so if a tree looks like this\n",
    "- ------------5\n",
    "- --------4------6\n",
    "- ---2\n",
    "- 1----3\n",
    "\n",
    "the tree is balanced. If a tree looks like this\n",
    "- --------------5\n",
    "- --------4----------6\n",
    "- ----------------7-------8\n",
    "- ----------------------9----10\n",
    "\n",
    "the tree is not balanced."
   ]
  },
  {
   "cell_type": "markdown",
   "metadata": {},
   "source": [
    "### Insertion"
   ]
  },
  {
   "cell_type": "markdown",
   "metadata": {},
   "source": [
    "For example, let's say we have the elements 50, 25, and 75. The binary search tree will be\n",
    "- ------50\n",
    "- 25--------75\n",
    "\n",
    "If we were to insert 40, it would be compared with the value at the parent node to decide rather it goes to the left or right. Since 40 < 50, 40 goes to the left. Once it goes to the left, it'll be compared with value at the next node (if it exists). Since 40 > 25, it'll be the right child node of 25\n",
    "- ------------50\n",
    "- ----25------------75\n",
    "- --------40\n",
    "\n",
    "If we inserted 85, we once again compare it with 50. Since 85 > 50, 85 goes to the right. It'll be compared with 75 now, and since 85 > 75, 85 will be the right child node of 75\n",
    "- ------------50\n",
    "- ----25------------75\n",
    "- --------40-------------85\n",
    "\n",
    "This is still a balanced tree."
   ]
  },
  {
   "cell_type": "markdown",
   "metadata": {},
   "source": [
    "### Deletion"
   ]
  },
  {
   "cell_type": "markdown",
   "metadata": {},
   "source": [
    "For example, we have the following tree\n",
    "- --------------50\n",
    "- ------25---------------75\n",
    "- 15-------40-----60-------85\n",
    "\n",
    "and we want to delete nodes from this tree. If we delete a child node (i.e. 15, 40, 60, 85), we could just delete it and there will be no issue. If 60 is removed, then the tree becomes\n",
    "- --------------50\n",
    "- ------25---------------75\n",
    "- 15-------40---------------85\n",
    "\n",
    "which doesn't need to be rebalanced. If a parent node is deleted here, its child node takes its place. If 75 is deleted, then the tree becomes\n",
    "- --------------50\n",
    "- ------25---------------85\n",
    "- 15-------40\n",
    "\n",
    "If the parent node deleted has two children, the children nodes will be compared and the larger becomes the new parent\n",
    "- --------------50\n",
    "- ------40---------------85\n",
    "- 15\n",
    "\n",
    "This maintains the balance of the tree."
   ]
  },
  {
   "cell_type": "markdown",
   "metadata": {},
   "source": [
    "### Traversal"
   ]
  },
  {
   "cell_type": "markdown",
   "metadata": {},
   "source": [
    "Traversals come in three forms:\n",
    "- <b>Inorder</b> (Left, node, right)\n",
    "- <b>Preorder</b> (Node, left, right)\n",
    "- <b>Postorder</b> (Left, right, node)\n",
    "\n",
    "So how does this apply to our (full) tree above? Given the tree\n",
    "- --------------50\n",
    "- ------25---------------75\n",
    "- 15-------40-----60-------85\n",
    "\n",
    "How would each traversal turn out?"
   ]
  },
  {
   "cell_type": "markdown",
   "metadata": {},
   "source": [
    "For an <b>inorder</b> traversal:\n",
    "\n",
    "We start off at 50 and keep going left until we hit a stop at 15. Since there's nothing left of 15, we print 15 and go right to 25. Since there's nothing left of 25, we print 25 and go right to 40. Since there's nothing left of 40, we print 40 and go right. Since there's nothing right of 40, we go back to 50 and repeat the same process with the right side of the tree.\n",
    "\n",
    "So the array is [15 25 40 50 60 75 85] after an <b>inorder</b> traversal."
   ]
  },
  {
   "cell_type": "markdown",
   "metadata": {},
   "source": [
    "For an <b>preorder</b> traversal:\n",
    "\n",
    "We start off at 50 and print it before going left. We go to 25, do the same, go over to 15, and do the same again. After 15, there's nowhere else to go so we go back to 25 and go right. We print 40, see that there's nothing left or right to it, and go back to 50. Now we go right from 50 and repeat the entire process there.\n",
    "\n",
    "So the array is [50 25 15 40 75 60 85] after an <b>preorder</b> traversal."
   ]
  },
  {
   "cell_type": "markdown",
   "metadata": {},
   "source": [
    "For an <b>postorder</b> traversal:\n",
    "\n",
    "We start off at 50 and keep going left until we hit a stop at 15. Since there's nothing left or right to 15, we print 15 and go back to 25. From 25, we go right to 40 and since there's nothing left or right to 40, we print 40. Since we've exhauseted 25, we print 25 before heading back to 50. We repeat the same process on the right side. Our node, 50, will be the final value.\n",
    "\n",
    "So the array is [15 40 25 60 85 75 50] after an <b>postorder</b> traversal."
   ]
  },
  {
   "cell_type": "markdown",
   "metadata": {},
   "source": [
    "### Height"
   ]
  },
  {
   "cell_type": "markdown",
   "metadata": {},
   "source": [
    "The <b>height</b> of a tree is defined as the longest path from the root node to its longest node. The <b>height</b> of a tree with one node is 0, and the <b>height</b> of an empty tree is -1. For our previous tree\n",
    "- --------------50\n",
    "- ------25---------------75\n",
    "- 15-------40-----60-------85\n",
    "\n",
    "The <b>height</b> is 2 for all paths. If another node was added so the tree becomes\n",
    "- -------------------50\n",
    "- --------25------------------75\n",
    "- 15------------40-----60-------85\n",
    "- -----------30\n",
    "\n",
    "The <b>height</b> is 2 for all paths except for the child node 30, which has a <b>height</b> of 3."
   ]
  },
  {
   "cell_type": "markdown",
   "metadata": {},
   "source": [
    "### Size"
   ]
  },
  {
   "cell_type": "markdown",
   "metadata": {},
   "source": [
    "The <b>size</b> of a tree is determined by how many nodes it has. For our previous tree (3 levels)\n",
    "- --------------50\n",
    "- ------25---------------75\n",
    "- 15-------40-----60-------85\n",
    "\n",
    "The <b>size</b> is 7. However, there is a pattern to this. For example:\n",
    "- Level 1: $1$ node\n",
    "- Level 2: $3$ nodes\n",
    "- Level 3: $7$ nodes\n",
    "- Level 4: $15$ nodes\n",
    "\n",
    "The <b>size</b> of a tree can be written as:\n",
    "- Size = $2^{n}-1$\n",
    "\n",
    "where $n$ is the level."
   ]
  },
  {
   "cell_type": "code",
   "execution_count": 1,
   "metadata": {},
   "outputs": [
    {
     "name": "stdout",
     "output_type": "stream",
     "text": [
      "For the array [50 25 75 15 40 60 85], we have\n",
      "Height: 3\n",
      "Size: 7\n",
      "50 25 15 40 75 60 85 (Preorder sort)\n",
      "15 25 40 50 60 75 85 (Inorder sort)\n",
      "15 40 25 60 85 75 50 (Postorder sort)\n",
      "\n",
      "After deleting 15 from the tree, we have\n",
      "Height: 3\n",
      "Size: 6\n",
      "50 25 40 75 60 85 (Preorder sort)\n",
      "25 40 50 60 75 85 (Inorder sort)\n",
      "40 25 60 85 75 50 (Postorder sort)\n",
      "\n",
      "After deleting 40 from the tree, we have\n",
      "Height: 3\n",
      "Size: 5\n",
      "50 25 75 60 85 (Preorder sort)\n",
      "25 50 60 75 85 (Inorder sort)\n",
      "25 60 85 75 50 (Postorder sort)\n"
     ]
    }
   ],
   "source": [
    "class treeNode:\n",
    "    def __init__(self, val):\n",
    "        self.left = None\n",
    "        self.right = None\n",
    "        self.val = val\n",
    "\n",
    "    def preOrder(self, root):\n",
    "        if root:\n",
    "            print(root.val, end=' ')\n",
    "            self.preOrder(root.left)\n",
    "            self.preOrder(root.right)\n",
    "            \n",
    "    def inOrder(self, root):\n",
    "        if root:\n",
    "            self.inOrder(root.left)\n",
    "            print(root.val, end=' ')\n",
    "            self.inOrder(root.right)\n",
    "            \n",
    "    def postOrder(self, root):\n",
    "        if root:\n",
    "            self.postOrder(root.left)\n",
    "            self.postOrder(root.right)\n",
    "            print(root.val, end=' ')\n",
    "\n",
    "    def insert(self, root, val):\n",
    "        if root:    \n",
    "            if val < root.val:\n",
    "                root.left = self.insert(root.left, val)\n",
    "            else:\n",
    "                root.right = self.insert(root.right, val)\n",
    "        else:\n",
    "            return treeNode(val)\n",
    "        return root\n",
    "\n",
    "    def delete(self, root, val): \n",
    "        if root:\n",
    "            if val < root.val: \n",
    "                root.left = self.delete(root.left, val) \n",
    "            elif(val > root.val): \n",
    "                root.right = self.delete(root.right, val) \n",
    "            else: \n",
    "                  \n",
    "                if root.left is None: \n",
    "                    temp = root.right  \n",
    "                    root = None \n",
    "                    return temp  \n",
    "                      \n",
    "                if root.right is None: \n",
    "                    temp = root.left  \n",
    "                    root = None\n",
    "                    return temp \n",
    "          \n",
    "                temp = self.min(root.right) \n",
    "                root.val = temp.val \n",
    "                root.right = self.delete(root.right, temp.val)\n",
    "        else:\n",
    "            return root\n",
    "      \n",
    "        return root\n",
    "    \n",
    "    def min(self, node): \n",
    "        current = node \n",
    "        while(current.left is not None): \n",
    "            current = current.left  \n",
    "\n",
    "        return current\n",
    "    \n",
    "    def height(self, root):\n",
    "        if root is None:\n",
    "            return 0\n",
    "        return (1 + max(self.height(root.left), self.height(root.right)))\n",
    "    \n",
    "    def size(self, root):\n",
    "        if root is None:\n",
    "            return 0\n",
    "        return 1 + self.size(root.left) + self.size(root.right)\n",
    "\n",
    "if __name__ == '__main__':\n",
    "    ## Insertion\n",
    "    root = treeNode(50)\n",
    "    root = root.insert(root, 25)\n",
    "    root = root.insert(root, 75)\n",
    "    root = root.insert(root, 15)\n",
    "    root = root.insert(root, 40)\n",
    "    root = root.insert(root, 60)\n",
    "    root = root.insert(root, 85)\n",
    "    \n",
    "    print('For the array [50 25 75 15 40 60 85], we have')\n",
    "    print(f'Height: {root.height(root)}')\n",
    "    print(f'Size: {root.size(root)}')\n",
    "    root.preOrder(root)\n",
    "    print('(Preorder sort)')\n",
    "    root.inOrder(root)\n",
    "    print('(Inorder sort)')\n",
    "    root.postOrder(root)\n",
    "    print('(Postorder sort)')\n",
    "    print()\n",
    "  \n",
    "    print('After deleting 15 from the tree, we have')\n",
    "    root = root.delete(root, 15)\n",
    "    print(f'Height: {root.height(root)}')\n",
    "    print(f'Size: {root.size(root)}')\n",
    "    root.preOrder(root)\n",
    "    print('(Preorder sort)')\n",
    "    root.inOrder(root)\n",
    "    print('(Inorder sort)')\n",
    "    root.postOrder(root)\n",
    "    print('(Postorder sort)')\n",
    "    print()\n",
    "\n",
    "    print('After deleting 40 from the tree, we have')\n",
    "    root = root.delete(root, 40)\n",
    "    print(f'Height: {root.height(root)}')\n",
    "    print(f'Size: {root.size(root)}')\n",
    "    root.preOrder(root)\n",
    "    print('(Preorder sort)')\n",
    "    root.inOrder(root)\n",
    "    print('(Inorder sort)')\n",
    "    root.postOrder(root)\n",
    "    print('(Postorder sort)')"
   ]
  },
  {
   "cell_type": "markdown",
   "metadata": {},
   "source": [
    "For runtime considerations, please also see: https://bigocheatsheet.io/"
   ]
  }
 ],
 "metadata": {
  "kernelspec": {
   "display_name": "Python 3",
   "language": "python",
   "name": "python3"
  },
  "language_info": {
   "codemirror_mode": {
    "name": "ipython",
    "version": 3
   },
   "file_extension": ".py",
   "mimetype": "text/x-python",
   "name": "python",
   "nbconvert_exporter": "python",
   "pygments_lexer": "ipython3",
   "version": "3.8.1"
  }
 },
 "nbformat": 4,
 "nbformat_minor": 4
}
