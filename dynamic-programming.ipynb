{
 "cells": [
  {
   "cell_type": "markdown",
   "metadata": {},
   "source": [
    "# Dynamic programming."
   ]
  },
  {
   "cell_type": "markdown",
   "metadata": {},
   "source": [
    "The following topics will be covered:\n",
    "- Longest common subsequence\n",
    "- Longest increasing subsequence\n",
    "- Edit distance\n",
    "- Minimum difference\n",
    "- Subset sum\n",
    "- Knapsack problem\n",
    "- Fibonacci"
   ]
  },
  {
   "cell_type": "markdown",
   "metadata": {},
   "source": [
    "### Longest common subsequence"
   ]
  },
  {
   "cell_type": "markdown",
   "metadata": {},
   "source": [
    "The <b>longest common subsequence</b> is the subsequence common to all the sequences. Unlike substrings, where positions have to be consecutive, subsequences do not have to be. Let's say we have two subsequences:\n",
    "- <i>sunday</i>\n",
    "- <i>saturday</i>\n",
    "\n",
    "Because the common elements are <i>s</i>, <i>u</i>, and <i>day</i>, the length of the <b>longest common subsequence</b> is <b>five</b>."
   ]
  },
  {
   "cell_type": "code",
   "execution_count": 1,
   "metadata": {},
   "outputs": [
    {
     "name": "stdout",
     "output_type": "stream",
     "text": [
      "5\n"
     ]
    }
   ],
   "source": [
    "def lcs(str1, str2, i, j):\n",
    "    if i == 0 or j == 0:\n",
    "        return 0\n",
    "    elif str1[i-1] == str2[j-1]:\n",
    "        return 1 + lcs(str1, str2, i-1, j-1)\n",
    "    else:\n",
    "        return max(lcs(str1, str2, i, j-1), lcs(str1, str2, i-1, j))\n",
    "\n",
    "if __name__ == '__main__':\n",
    "    str1 = \"sunday\"\n",
    "    str2 = \"saturday\"\n",
    "    print(lcs(str1 , str2, len(str1), len(str2)))"
   ]
  },
  {
   "cell_type": "markdown",
   "metadata": {},
   "source": [
    "### Longest increasing subsequence"
   ]
  },
  {
   "cell_type": "markdown",
   "metadata": {},
   "source": [
    "The <b>longest increasing subsequence</b> is the subsubsequence of a given sequence in which the subsequence's elements are in sorted order, lowest to highest, and in which the subsequence is as long as possible. Let's say we have the sequence:\n",
    "- [0, 8, 4, 12, 2, 10, 6, 14, 1, 9, 5, 13, 3, 11, 7, 15]\n",
    "\n",
    "We can form a few subsequences such as\n",
    "- [4, 10, 11, 15]\n",
    "- [0, 8, 10, 13, 15]\n",
    "\n",
    "But none of them are as long as\n",
    "- [0, 2, 6, 9, 11, 15]\n",
    "\n",
    "which is the <b>longest increasing subsequence</b> with a length of six."
   ]
  },
  {
   "cell_type": "code",
   "execution_count": 2,
   "metadata": {},
   "outputs": [
    {
     "name": "stdout",
     "output_type": "stream",
     "text": [
      "The longest increasing subsequence is [0, 2, 6, 9, 11, 15] with a length of 6.\n"
     ]
    }
   ],
   "source": [
    "def lis(arr):\n",
    "    N = len(arr)\n",
    "    P = [0] * N\n",
    "    M = [0] * (N+1)\n",
    "    L = 0\n",
    "\n",
    "    for i in range(N):\n",
    "        lo = 1\n",
    "        hi = L\n",
    "        while lo <= hi:\n",
    "            mid = (lo+hi)//2\n",
    "            if (arr[M[mid]] < arr[i]):\n",
    "                lo = mid+1\n",
    "            else:\n",
    "                hi = mid-1\n",
    "\n",
    "        newL = lo\n",
    "        P[i] = M[newL-1]\n",
    "        M[newL] = i\n",
    "    \n",
    "        if (newL > L):\n",
    "            L = newL\n",
    "            \n",
    "    S = []\n",
    "    k = M[L]\n",
    "        \n",
    "    for i in range(L-1, -1, -1):\n",
    "        S.append(arr[k])\n",
    "        k = P[k]\n",
    "\n",
    "    return S[::-1]\n",
    "\n",
    "if __name__ == '__main__':\n",
    "    arr = [0, 8, 4, 12, 2, 10, 6, 14, 1, 9, 5, 13, 3, 11, 7, 15]\n",
    "    print(f'The longest increasing subsequence is {lis(arr)} with a length of {len(lis(arr))}.')"
   ]
  },
  {
   "cell_type": "markdown",
   "metadata": {},
   "source": [
    "### Edit distance"
   ]
  },
  {
   "cell_type": "markdown",
   "metadata": {},
   "source": [
    "The idea is to find the lowest amount of edits needed to covert one string to another. The operations allowed are:\n",
    "- Insert\n",
    "- Remove\n",
    "- Replace\n",
    "\n",
    "Let's say we have two strings:\n",
    "- <i>monday</i>\n",
    "- <i>saturday</i>\n",
    "\n",
    "The two strings have the last three characters in common, but how many steps will it take to morph <i>mon</i> into <i>satur</i>? It should be <b>five</b>.\n",
    "- Insert <i>u</i>\n",
    "- Insert <i>r</i>\n",
    "- Replace <i>m</i> with <i>s</i>\n",
    "- Replace <i>o</i> with <i>a</i>\n",
    "- Replace <i>n</i> with <i>t</i>\n",
    "\n",
    "Now <i>monday</i> has become <i>saturday</i>."
   ]
  },
  {
   "cell_type": "code",
   "execution_count": 3,
   "metadata": {},
   "outputs": [
    {
     "name": "stdout",
     "output_type": "stream",
     "text": [
      "5\n"
     ]
    }
   ],
   "source": [
    "def edit_distance(str1, str2, i, j):   \n",
    "    if i == 0:\n",
    "        return j\n",
    "\n",
    "    if j == 0:\n",
    "        return i\n",
    "    \n",
    "    if str1[i-1] == str2[j-1]:\n",
    "        return edit_distance(str1, str2, i-1, j-1)\n",
    "\n",
    "    return 1 + min(edit_distance(str1, str2, i-1, j), edit_distance(str1, str2, i-1, j-1), edit_distance(str1, str2, i, j-1))    \n",
    "\n",
    "if __name__ == '__main__':\n",
    "    str1 = 'monday'\n",
    "    str2 = 'saturday'\n",
    "    print(edit_distance(str1, str2, len(str1), len(str2)))"
   ]
  },
  {
   "cell_type": "markdown",
   "metadata": {},
   "source": [
    "### Minimum difference"
   ]
  },
  {
   "cell_type": "markdown",
   "metadata": {},
   "source": [
    "The <b>minimum difference</b> of a set is the smallest absolute difference between the sum of all the elements in the two subsets formed from that set. Elements can only appear in one subset but not the other, and some subsets can also be empty. Let's say we have the set\n",
    "- [3, 1, 4, 2, 2, 1]\n",
    "\n",
    "The subsets that can be formed are\n",
    "- [3, 4, 2]\n",
    "- [2, 1, 1]\n",
    "\n",
    "The difference between the two subsets is\n",
    "- $(3 + 4 + 2) - (2 + 1 + 1) \\Rightarrow 9 - 4 = 5$\n",
    "\n",
    "but is this the <b>minimum difference</b>? No, because we can form the subsets\n",
    "- [3, 2, 1]\n",
    "- [4, 2, 1]\n",
    "\n",
    "so that\n",
    "- $(4 + 2 + 1) - (3 + 2 + 1) \\Rightarrow 7 - 6 = 1$\n",
    "\n",
    "which is the <b>minimum difference</b>."
   ]
  },
  {
   "cell_type": "code",
   "execution_count": 4,
   "metadata": {},
   "outputs": [
    {
     "name": "stdout",
     "output_type": "stream",
     "text": [
      "([3, 2, 1], [4, 2, 1])\n",
      "1\n"
     ]
    }
   ],
   "source": [
    "def find_partition(arr):\n",
    "    A = []\n",
    "    B = []\n",
    "    sum_A = 0\n",
    "    sum_B = 0\n",
    "    for n in sorted(arr, reverse=True):\n",
    "        if sum_A < sum_B:\n",
    "            A.append(n)\n",
    "            sum_A = sum_A + n\n",
    "        else:\n",
    "            B.append(n)\n",
    "            sum_B = sum_B + n\n",
    "    return (A, B)\n",
    "\n",
    "def find_difference(subsets):\n",
    "    return abs(sum(subsets[0])-sum(subsets[1]))\n",
    "\n",
    "if __name__ == \"__main__\":\n",
    "    arr = [3, 1, 4, 2, 2, 1]\n",
    "    subsets = find_partition(arr)\n",
    "    print(subsets)\n",
    "    print(find_difference(subsets))"
   ]
  },
  {
   "cell_type": "markdown",
   "metadata": {},
   "source": [
    "This is actually the <i>greedy number partitioning</i> algorithm readjusted."
   ]
  },
  {
   "cell_type": "markdown",
   "metadata": {},
   "source": [
    "### Subset sum"
   ]
  },
  {
   "cell_type": "markdown",
   "metadata": {},
   "source": [
    "The <b>subset sum</b> problem is a decision problem that determines rather the elements of a set can sum up to the given sum. Let's say we have the set\n",
    "- [3, 34, 4, 12, 5, 2]\n",
    "\n",
    "and a given sum 9. We see that\n",
    "- $3 + 4 + 2 = 9$\n",
    "\n",
    "So the subset\n",
    "- [3, 4, 2]\n",
    "\n",
    "sums up precisely to the given sum. But if we changed the given sum to 68, there would not be a set combination."
   ]
  },
  {
   "cell_type": "code",
   "execution_count": 5,
   "metadata": {},
   "outputs": [
    {
     "name": "stdout",
     "output_type": "stream",
     "text": [
      "There is no subset that sums precisely to 68.\n"
     ]
    }
   ],
   "source": [
    "def subsetSum(set, n, sum):\n",
    "    if (sum == 0):\n",
    "        return True\n",
    "    if (n == 0):\n",
    "        return False\n",
    " \n",
    "    if (set[n - 1] > sum):\n",
    "        return subsetSum(set, n - 1, sum)\n",
    "\n",
    "    return subsetSum(set, n-1, sum) or subsetSum(set, n-1, sum-set[n-1])\n",
    "\n",
    "if __name__ == \"__main__\":\n",
    "    set = [3, 34, 4, 12, 5, 2]\n",
    "    sum = 68\n",
    "    n = len(set)\n",
    "    if (subsetSum(set, n, sum) == True):\n",
    "        print(f'There is a subset that sums precisely to {sum}.')\n",
    "    else:\n",
    "        print(f'There is no subset that sums precisely to {sum}.')"
   ]
  },
  {
   "cell_type": "markdown",
   "metadata": {},
   "source": [
    "### Knapsack problem"
   ]
  },
  {
   "cell_type": "markdown",
   "metadata": {},
   "source": [
    "The <b>Knapsack problem</b> determines the number of each item to include in a collection so that the total weight is less than or equal to a given limit and the total value is as large as possible given a set of items, each with a weight and a value."
   ]
  },
  {
   "cell_type": "code",
   "execution_count": 6,
   "metadata": {},
   "outputs": [
    {
     "name": "stdout",
     "output_type": "stream",
     "text": [
      "220\n"
     ]
    }
   ],
   "source": [
    "def knapSack(W, wt, val, n):\n",
    "    if n == 0 or W == 0:\n",
    "        return 0\n",
    "\n",
    "    if (wt[n-1] > W):\n",
    "        return knapSack(W, wt, val, n-1)\n",
    "\n",
    "    else:\n",
    "        return max(val[n-1] + knapSack(W-wt[n-1], wt, val, n-1), knapSack(W, wt, val, n-1))\n",
    "\n",
    "if __name__ == \"__main__\":\n",
    "    val = [60, 100, 120]\n",
    "    wt = [10, 20, 30]\n",
    "    W = 50\n",
    "    n = len(val)\n",
    "    print(knapSack(W, wt, val, n))"
   ]
  },
  {
   "cell_type": "markdown",
   "metadata": {},
   "source": [
    "### Fibonacci"
   ]
  },
  {
   "cell_type": "markdown",
   "metadata": {},
   "source": [
    "The <b>Fibonacci</b> series is defined as the summation of two preceding numbers starting from 0 and 1:\n",
    "- $F_{n} = F_{n-1} + F_{n-2}$\n",
    "    \n",
    "where $F_{0} = 0$, $F_{1} = 1$, and $n > 1$. So the series is:\n",
    "- 0, 1, 1, 2, 3, 5, 8, 13, 21, 34, 55, 89, 144, ..."
   ]
  },
  {
   "cell_type": "code",
   "execution_count": 7,
   "metadata": {},
   "outputs": [
    {
     "name": "stdout",
     "output_type": "stream",
     "text": [
      "55\n"
     ]
    }
   ],
   "source": [
    "def fibonacci(n):\n",
    "    if n <= 1:\n",
    "        return n\n",
    "\n",
    "    f1 = fibonacci(n - 1)\n",
    "    f2 = fibonacci(n - 2)\n",
    "\n",
    "    fn = f1 + f2\n",
    "    return fn\n",
    "\n",
    "if __name__ == '__main__':\n",
    "    print(fibonacci(10))"
   ]
  }
 ],
 "metadata": {
  "kernelspec": {
   "display_name": "Python 3",
   "language": "python",
   "name": "python3"
  },
  "language_info": {
   "codemirror_mode": {
    "name": "ipython",
    "version": 3
   },
   "file_extension": ".py",
   "mimetype": "text/x-python",
   "name": "python",
   "nbconvert_exporter": "python",
   "pygments_lexer": "ipython3",
   "version": "3.8.1"
  }
 },
 "nbformat": 4,
 "nbformat_minor": 4
}
